{
 "cells": [
  {
   "cell_type": "code",
   "execution_count": 31,
   "id": "f4c7036d-c9b1-47a7-82c5-ca4a68142f6c",
   "metadata": {},
   "outputs": [],
   "source": [
    "import numpy as np"
   ]
  },
  {
   "cell_type": "code",
   "execution_count": 32,
   "id": "d839a248-5527-4ad6-bb19-b6078725c411",
   "metadata": {},
   "outputs": [],
   "source": [
    "########## what if there are no unknowns\n",
    "########## what if no .circuit or no .end\n",
    "########## check for det = 0 before np.linalg.solve\n",
    "########## figure other possible edge cases\n",
    "########## R = 0 cases"
   ]
  },
  {
   "cell_type": "code",
   "execution_count": 33,
   "id": "73fa09ab-eef9-449b-9e44-c9de5637f4fc",
   "metadata": {},
   "outputs": [],
   "source": [
    "fptr = open('testdata/test_1.ckt', 'r')\n",
    "\n",
    "lines = fptr.readlines()\n",
    "lines = [line.strip(\"\\n\").strip() for line in lines]"
   ]
  },
  {
   "cell_type": "code",
   "execution_count": 34,
   "id": "16020a53-a1de-48eb-98b7-74cd08105aeb",
   "metadata": {},
   "outputs": [
    {
     "data": {
      "text/plain": [
       "[['V1', '1', 'GND', 'dc', '2'], ['R1', '1', '2', '1'], ['R2', '2', 'GND', '1']]"
      ]
     },
     "execution_count": 34,
     "metadata": {},
     "output_type": "execute_result"
    }
   ],
   "source": [
    "circuit_flag = False\n",
    "circuit = []\n",
    "\n",
    "for line in lines:\n",
    "    if line == '.end':\n",
    "        break\n",
    " \n",
    "    if circuit_flag == True:\n",
    "        circuit.append(line.split())\n",
    "    \n",
    "    if line == '.circuit':\n",
    "        circuit_flag = True\n",
    "\n",
    "circuit"
   ]
  },
  {
   "cell_type": "code",
   "execution_count": 35,
   "id": "3a22636a-50d9-460d-8689-d359c4ad8e47",
   "metadata": {},
   "outputs": [
    {
     "data": {
      "text/plain": [
       "[{'name': 'V1', 'type': 'V', 'nodes': ('1', 'GND'), 'value': 2.0},\n",
       " {'name': 'R1', 'type': 'R', 'nodes': ('1', '2'), 'value': 1.0},\n",
       " {'name': 'R2', 'type': 'R', 'nodes': ('2', 'GND'), 'value': 1.0}]"
      ]
     },
     "execution_count": 35,
     "metadata": {},
     "output_type": "execute_result"
    }
   ],
   "source": [
    "elements = []\n",
    "for element in circuit:\n",
    "    dict = {}\n",
    "    dict['name'] = element[0]\n",
    "    dict['type'] = element[0][0]\n",
    "    dict['nodes'] = (element[1], element[2])         # 1st is +ve and 2nd is -ve terminal\n",
    "    dict['value'] = float(element[-1])\n",
    "    elements.append(dict)\n",
    "        \n",
    "elements"
   ]
  },
  {
   "cell_type": "code",
   "execution_count": 36,
   "id": "c4da3c31-1ef8-46ed-91f1-759abad86029",
   "metadata": {},
   "outputs": [
    {
     "data": {
      "text/plain": [
       "['1', '2']"
      ]
     },
     "execution_count": 36,
     "metadata": {},
     "output_type": "execute_result"
    }
   ],
   "source": [
    "n = [] ############## Not taking GND here\n",
    "for element in elements:\n",
    "    [n.append(node) for node in element['nodes'] if node not in n and node != 'GND']\n",
    "n"
   ]
  },
  {
   "cell_type": "code",
   "execution_count": 37,
   "id": "ed364e9f-a50b-4739-a39b-471f39759656",
   "metadata": {},
   "outputs": [
    {
     "data": {
      "text/plain": [
       "[{'name': 'V1', 'type': 'V', 'nodes': ('1', 'GND'), 'value': 2.0}]"
      ]
     },
     "execution_count": 37,
     "metadata": {},
     "output_type": "execute_result"
    }
   ],
   "source": [
    "I_elements = [element for element in elements if element['type'] == 'I']\n",
    "V_elements = [element for element in elements if element['type'] == 'V']\n",
    "\n",
    "R_count = sum(1 for element in elements if element['type'] == 'R')\n",
    "V_count = len(V_elements)\n",
    "I_count = len(I_elements)\n",
    "V_elements"
   ]
  },
  {
   "cell_type": "code",
   "execution_count": 41,
   "id": "3b6248c4-0b74-48ad-9b3b-f573a47722e5",
   "metadata": {},
   "outputs": [
    {
     "data": {
      "text/plain": [
       "array([[ 1, -1,  1],\n",
       "       [-1,  2,  0],\n",
       "       [ 1,  0,  0]])"
      ]
     },
     "execution_count": 41,
     "metadata": {},
     "output_type": "execute_result"
    }
   ],
   "source": [
    "A = np.full([len(n)+V_count, len(n)+V_count], 0)           # Default value of every entry is 0\n",
    "\n",
    "for i in range(len(n)):\n",
    "    for j in range(i, len(n)):\n",
    "        G = 0\n",
    "        for element in elements:\n",
    "            if n[i] in element['nodes'] and n[j] in element['nodes'] and element['type'] == 'R':\n",
    "                G += 1/element['value']\n",
    "        if i == j:\n",
    "            A[i][j] = G\n",
    "        else:\n",
    "            A[i][j] = -G\n",
    "\n",
    "\n",
    "for i in range(V_count):\n",
    "    for j in range(len(n)):\n",
    "        element = V_elements[i]\n",
    "        if n[j] in element['nodes'] and element['type'] == 'V':\n",
    "            if n[j] == element['nodes'][0]:\n",
    "                A[j][i+len(n)] = 1\n",
    "            elif n[j] == element['nodes'][1]:\n",
    "                A[j][i+len(n)] = -1\n",
    "\n",
    "\n",
    "for i in range(len(n)+V_count):\n",
    "    for j in range(i, len(n)+V_count):\n",
    "        A[j, i] = A[i, j]\n",
    "    \n",
    "A"
   ]
  },
  {
   "cell_type": "code",
   "execution_count": 44,
   "id": "70b08ea5-16df-4202-953c-37ea69dfc05f",
   "metadata": {},
   "outputs": [
    {
     "data": {
      "text/plain": [
       "array([0, 0, 2])"
      ]
     },
     "execution_count": 44,
     "metadata": {},
     "output_type": "execute_result"
    }
   ],
   "source": [
    "b = np.full(len(n)+V_count, 0)\n",
    "\n",
    "\n",
    "for i in range(len(n)):\n",
    "    for element in I_elements:\n",
    "        if n[i] == element['nodes'][0]:\n",
    "            b[i] += element['value']\n",
    "        elif n[i] == element['nodes'][1]:\n",
    "            b[i] -= element['value']\n",
    "\n",
    "for i in range(V_count):\n",
    "    for element in V_elements:\n",
    "        if n[i] == element['nodes'][0]:\n",
    "            b[i+len(n)] += element['value']\n",
    "        elif n[i] == element['nodes'][1]:\n",
    "            b[i+len(n)] -= element['value']\n",
    "\n",
    "b"
   ]
  },
  {
   "cell_type": "code",
   "execution_count": 45,
   "id": "1199e56e",
   "metadata": {},
   "outputs": [
    {
     "data": {
      "text/plain": [
       "array([ 2.,  1., -1.])"
      ]
     },
     "execution_count": 45,
     "metadata": {},
     "output_type": "execute_result"
    }
   ],
   "source": [
    "x = np.linalg.solve(A, b)\n",
    "x"
   ]
  },
  {
   "cell_type": "code",
   "execution_count": 47,
   "id": "cc798967",
   "metadata": {},
   "outputs": [
    {
     "data": {
      "text/plain": [
       "[{'name': 'V1', 'type': 'V', 'nodes': ('1', 'GND'), 'value': 2.0}]"
      ]
     },
     "execution_count": 47,
     "metadata": {},
     "output_type": "execute_result"
    }
   ],
   "source": [
    "V_elements"
   ]
  },
  {
   "cell_type": "code",
   "execution_count": 51,
   "id": "30f3aa4f",
   "metadata": {},
   "outputs": [
    {
     "data": {
      "text/plain": [
       "({'GND': 0, '1': 2.0, '2': 1.0}, {'V1': -1.0})"
      ]
     },
     "execution_count": 51,
     "metadata": {},
     "output_type": "execute_result"
    }
   ],
   "source": [
    "Voltages = {}\n",
    "Currents = {}\n",
    "Voltages['GND'] = 0\n",
    "for i in range(len(n)):\n",
    "    Voltages[n[i]] = x[i]\n",
    "for i, V_element in enumerate(V_elements):\n",
    "    Currents[V_element['name']] = x[i+len(n)]\n",
    "\n",
    "Voltages, Currents"
   ]
  },
  {
   "cell_type": "code",
   "execution_count": 42,
   "id": "8e1a999f-04ca-4b47-ad3f-9f7c5ab43262",
   "metadata": {},
   "outputs": [],
   "source": [
    "fptr.close()"
   ]
  }
 ],
 "metadata": {
  "kernelspec": {
   "display_name": "Python 3 (ipykernel)",
   "language": "python",
   "name": "python3"
  },
  "language_info": {
   "codemirror_mode": {
    "name": "ipython",
    "version": 3
   },
   "file_extension": ".py",
   "mimetype": "text/x-python",
   "name": "python",
   "nbconvert_exporter": "python",
   "pygments_lexer": "ipython3",
   "version": "3.11.7"
  }
 },
 "nbformat": 4,
 "nbformat_minor": 5
}
