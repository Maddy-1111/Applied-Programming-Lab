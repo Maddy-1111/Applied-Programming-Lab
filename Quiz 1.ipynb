{
 "cells": [
  {
   "cell_type": "code",
   "execution_count": 1,
   "id": "68b28bba",
   "metadata": {},
   "outputs": [
    {
     "name": "stdout",
     "output_type": "stream",
     "text": [
      "hi\n"
     ]
    }
   ],
   "source": [
    "print('hi')"
   ]
  },
  {
   "cell_type": "code",
   "execution_count": 8,
   "id": "2fa162fa",
   "metadata": {},
   "outputs": [],
   "source": [
    "c = {None}"
   ]
  },
  {
   "cell_type": "code",
   "execution_count": 9,
   "id": "b932a379",
   "metadata": {},
   "outputs": [
    {
     "data": {
      "text/plain": [
       "{None}"
      ]
     },
     "execution_count": 9,
     "metadata": {},
     "output_type": "execute_result"
    }
   ],
   "source": [
    "c"
   ]
  },
  {
   "cell_type": "code",
   "execution_count": 10,
   "id": "a90b2fab",
   "metadata": {},
   "outputs": [
    {
     "data": {
      "text/plain": [
       "1"
      ]
     },
     "execution_count": 10,
     "metadata": {},
     "output_type": "execute_result"
    }
   ],
   "source": [
    "len(c)"
   ]
  },
  {
   "cell_type": "code",
   "execution_count": 11,
   "id": "d4b85867",
   "metadata": {},
   "outputs": [
    {
     "name": "stdout",
     "output_type": "stream",
     "text": [
      "Function execution completed.\n",
      "slow_function took 2.00 seconds to run.\n"
     ]
    }
   ],
   "source": [
    "import time\n",
    "def timer(func):\n",
    "    def wrapper(*args, **kwargs):\n",
    "        start_time = time.time()\n",
    "        result = func(*args, **kwargs)\n",
    "        end_time = time.time()\n",
    "        print(f\"{func.__name__} took {end_time - start_time:.2f} seconds to run.\")\n",
    "        return result\n",
    "    return wrapper\n",
    "@timer\n",
    "def slow_function():\n",
    "    time.sleep(2)\n",
    "    print(\"Function execution completed.\")\n",
    "slow_function()"
   ]
  },
  {
   "cell_type": "code",
   "execution_count": 22,
   "id": "2af3e1e6",
   "metadata": {},
   "outputs": [],
   "source": [
    "import math\n",
    "def binsearch(L, v):\n",
    "    lo = 0\n",
    "    hi = len(L)-1\n",
    "    count = 0\n",
    "    while (lo <= hi) and (count < len(L)):\n",
    "        count += 1\n",
    "        mid = math.ceil((lo + hi) / 2)\n",
    "        s = L[mid]\n",
    "        if s == v:\n",
    "            return mid \n",
    "        elif s < v:\n",
    "            lo = mid \n",
    "        else:\n",
    "            hi = mid - 1\n",
    "    return -1"
   ]
  },
  {
   "cell_type": "code",
   "execution_count": 25,
   "id": "f1a0fd66",
   "metadata": {},
   "outputs": [
    {
     "name": "stdout",
     "output_type": "stream",
     "text": [
      "2\n"
     ]
    }
   ],
   "source": [
    "L = [1, 2, 3, 5, 7]\n",
    "v = 3\n",
    "print(binsearch(L,v))"
   ]
  },
  {
   "cell_type": "code",
   "execution_count": 29,
   "id": "c413d9ee",
   "metadata": {},
   "outputs": [
    {
     "name": "stdout",
     "output_type": "stream",
     "text": [
      "1\n"
     ]
    },
    {
     "data": {
      "text/plain": [
       "9.5"
      ]
     },
     "execution_count": 29,
     "metadata": {},
     "output_type": "execute_result"
    }
   ],
   "source": [
    "for i in range(1,2):\n",
    "    print(i)\n"
   ]
  },
  {
   "cell_type": "code",
   "execution_count": 44,
   "id": "c77f9ddf",
   "metadata": {},
   "outputs": [],
   "source": [
    "# EXPLAIN your corrections in the appropriate places\n",
    "def aliquot(n):\n",
    "    sum = 0 \n",
    "    for i in range(1, (n // 2) + 1): # +1?\n",
    "        if n % i == 0: \n",
    "            sum += i\n",
    "    return sum\n",
    "\n",
    "def checkperfect(n):\n",
    "    s = aliquot(n)\n",
    "    if s > n:\n",
    "        return \"abundant\"\n",
    "    elif s < n:\n",
    "        print(s)\n",
    "        return \"deficient\"\n",
    "    else:\n",
    "        return \"perfect\""
   ]
  },
  {
   "cell_type": "code",
   "execution_count": 47,
   "id": "7bc715ec",
   "metadata": {},
   "outputs": [
    {
     "data": {
      "text/plain": [
       "'abundant'"
      ]
     },
     "execution_count": 47,
     "metadata": {},
     "output_type": "execute_result"
    }
   ],
   "source": [
    "checkperfect(12)"
   ]
  },
  {
   "cell_type": "markdown",
   "id": "422a8fa5",
   "metadata": {},
   "source": [
    "12 - 1, 2, 3, 4, 6\n",
    "10 - 1, 2, 5\n",
    "8 - 1, 2, 4\n",
    "6 - 1, 2, 3"
   ]
  },
  {
   "cell_type": "code",
   "execution_count": 57,
   "id": "f8645765",
   "metadata": {},
   "outputs": [
    {
     "name": "stdout",
     "output_type": "stream",
     "text": [
      "None\n"
     ]
    }
   ],
   "source": [
    "text = 'thi-s i:s a test2-2'\n",
    "\n",
    "def most_common_word(text):\n",
    "\n",
    "    if not(isinstance(text, str)):\n",
    "        raise TypeError(\"Input must be a string\")\n",
    "\n",
    "    new_list = text.split()\n",
    "\n",
    "    for i in range(len(new_list)):\n",
    "        buf = []\n",
    "        for j in new_list[i]:\n",
    "            if j.isalnum():\n",
    "                buf.append(j)\n",
    "        \n",
    "        new_list[i] = ''.join(buf)\n",
    "\n",
    "    if not(new_list):\n",
    "        return \"No words found\"\n",
    "    \n",
    "    my_dict = {}\n",
    "\n",
    "    for word in new_list:\n",
    "        if word not in my_dict:\n",
    "            my_dict[word] = 1\n",
    "        else:\n",
    "            my_dict[word] = my_dict[word] + 1\n",
    "\n",
    "    for ele in my_dict(keys):\n",
    "        return f\"'{ele}' my_\"\n",
    "\n",
    "print(most_common_word(text))\n"
   ]
  },
  {
   "cell_type": "code",
   "execution_count": 66,
   "id": "09eb6472",
   "metadata": {},
   "outputs": [
    {
     "name": "stdout",
     "output_type": "stream",
     "text": [
      "'this' 2\n"
     ]
    },
    {
     "data": {
      "text/plain": [
       "{'this': 2, 'is': 1, 'a': 1, 'test22': 1}"
      ]
     },
     "execution_count": 66,
     "metadata": {},
     "output_type": "execute_result"
    }
   ],
   "source": [
    "text = 'thi-s i:s a test2-2 this'\n",
    "\n",
    "\n",
    "if not(isinstance(text, str)):\n",
    "    raise TypeError(\"Input must be a string\")\n",
    "\n",
    "new_list = text.split()\n",
    "\n",
    "for i in range(len(new_list)):\n",
    "    buf = []\n",
    "    for j in new_list[i]:\n",
    "        if j.isalnum():\n",
    "            buf.append(j)\n",
    "    \n",
    "    new_list[i] = ''.join(buf)\n",
    "\n",
    "my_dict = {}\n",
    "\n",
    "for word in new_list:\n",
    "    if word not in my_dict:\n",
    "        my_dict[word] = 1\n",
    "    else:\n",
    "        my_dict[word] = my_dict[word] + 1\n",
    "\n",
    "for ele in my_dict.keys():\n",
    "    if my_dict[ele] == max(my_dict.values()):\n",
    "        print(f\"'{ele}' {my_dict[ele]}\")\n",
    "        break\n",
    "    \n",
    "my_dict"
   ]
  },
  {
   "cell_type": "code",
   "execution_count": null,
   "id": "d0af2e9d",
   "metadata": {},
   "outputs": [],
   "source": []
  }
 ],
 "metadata": {
  "kernelspec": {
   "display_name": "Python 3 (ipykernel)",
   "language": "python",
   "name": "python3"
  },
  "language_info": {
   "codemirror_mode": {
    "name": "ipython",
    "version": 3
   },
   "file_extension": ".py",
   "mimetype": "text/x-python",
   "name": "python",
   "nbconvert_exporter": "python",
   "pygments_lexer": "ipython3",
   "version": "3.11.7"
  }
 },
 "nbformat": 4,
 "nbformat_minor": 5
}
