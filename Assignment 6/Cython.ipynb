{
 "cells": [
  {
   "cell_type": "code",
   "execution_count": 1,
   "id": "362afb07-0e25-4c89-b256-99885e227009",
   "metadata": {},
   "outputs": [],
   "source": [
    "import numpy as np\n",
    "import cython"
   ]
  },
  {
   "cell_type": "markdown",
   "id": "c09f2034-c036-42e7-8ebb-3000fff6d9c1",
   "metadata": {
    "tags": []
   },
   "source": [
    "### Conducting Performance Test"
   ]
  },
  {
   "cell_type": "markdown",
   "id": "ef9e6862-ff76-445f-b007-87fba164873b",
   "metadata": {},
   "source": [
    "#### Timing 3 different Python Implementations"
   ]
  },
  {
   "cell_type": "code",
   "execution_count": 2,
   "id": "e245e4c5-bcf5-47f3-b2b9-7a63964c61e4",
   "metadata": {},
   "outputs": [],
   "source": [
    "def py_trapz1(f, a, b, n):\n",
    "    length = (b-a)/n\n",
    "    area = 0\n",
    "    for i in range(n):\n",
    "        area+= ((f(a+i*length) + f(a+(i+1)*length)) * length) / 2\n",
    "    return area"
   ]
  },
  {
   "cell_type": "code",
   "execution_count": 3,
   "id": "eb257064-96d1-4a3f-8391-98c51036c6d6",
   "metadata": {},
   "outputs": [],
   "source": [
    "def py_trapz2(f, a, b, n):\n",
    "    y = []\n",
    "    dx = (b-a)/n\n",
    "    for i in range(n):\n",
    "        y.append(f(a + (b-a)*i/n))\n",
    "    out = (sum(y) + (f(b)-f(a))/2) * dx\n",
    "    return out"
   ]
  },
  {
   "cell_type": "code",
   "execution_count": 4,
   "id": "840716d5-2737-4979-a66d-2c8ec507dae6",
   "metadata": {},
   "outputs": [],
   "source": [
    "def py_trapz3(f, a, b, n):\n",
    "    dx = (b - a) / n\n",
    "    out = (f(a) + f(b)) / 2\n",
    "    for i in range(1, n):\n",
    "        out += f(a + i*dx)\n",
    "    out *= dx\n",
    "    return out"
   ]
  },
  {
   "cell_type": "code",
   "execution_count": 5,
   "id": "920605d8-a413-4748-918f-88337ef08eb7",
   "metadata": {},
   "outputs": [
    {
     "name": "stdout",
     "output_type": "stream",
     "text": [
      "3.61 s ± 19.6 ms per loop (mean ± std. dev. of 7 runs, 1 loop each)\n",
      "2.51 s ± 182 ms per loop (mean ± std. dev. of 7 runs, 1 loop each)\n",
      "1.73 s ± 29.8 ms per loop (mean ± std. dev. of 7 runs, 1 loop each)\n"
     ]
    }
   ],
   "source": [
    "f = lambda x: x**2\n",
    "%timeit py_trapz1(f, 0, 10, 10000000)\n",
    "%timeit py_trapz2(f, 0, 10, 10000000)\n",
    "%timeit py_trapz3(f, 0, 10, 10000000)"
   ]
  },
  {
   "cell_type": "markdown",
   "id": "806370d3-24bc-48fc-ba8d-598c1445a158",
   "metadata": {},
   "source": [
    "##### py_trapz3 is the fastest and will be used here on out for comparision"
   ]
  },
  {
   "cell_type": "markdown",
   "id": "945badb6-a715-4059-91be-307be7700bcb",
   "metadata": {},
   "source": [
    "#### Timing Cython and Numpy"
   ]
  },
  {
   "cell_type": "code",
   "execution_count": 6,
   "id": "f67f80a1-4394-4f97-bc7e-f2bf6a47b1b9",
   "metadata": {},
   "outputs": [],
   "source": [
    "%load_ext Cython"
   ]
  },
  {
   "cell_type": "code",
   "execution_count": 7,
   "id": "62c2fdd2-3e12-4c4d-9f71-0bbc2e1bea47",
   "metadata": {},
   "outputs": [],
   "source": [
    "%%cython\n",
    "\n",
    "def cy_trapz(f, float a, float b, int n):\n",
    "    cdef int i\n",
    "    cdef float dx = (b - a) / n\n",
    "    cdef float out = (f(a) + f(b)) / 2\n",
    "    for i in range(1, n):\n",
    "        out += f(a + i*dx)\n",
    "    out *= dx\n",
    "    return out"
   ]
  },
  {
   "cell_type": "code",
   "execution_count": 8,
   "id": "41a0eb3b-51d9-4090-8a89-611f4550b9ad",
   "metadata": {},
   "outputs": [],
   "source": [
    "def np_trapz(f, a, b, n):\n",
    "    dx = (b - a) / n\n",
    "    x = np.linspace(a, b, n)\n",
    "    y = f(x)\n",
    "    out = np.trapz(y, dx=dx)\n",
    "    return out"
   ]
  },
  {
   "cell_type": "code",
   "execution_count": 9,
   "id": "258fab9e-6d3d-4f5e-8f41-2eb08a554a41",
   "metadata": {},
   "outputs": [
    {
     "name": "stdout",
     "output_type": "stream",
     "text": [
      "1.24 s ± 41 ms per loop (mean ± std. dev. of 7 runs, 1 loop each)\n",
      "119 ms ± 342 µs per loop (mean ± std. dev. of 7 runs, 10 loops each)\n"
     ]
    }
   ],
   "source": [
    "f = lambda x: x**2\n",
    "%timeit cy_trapz(f, 0, 10, 10000000)\n",
    "%timeit np_trapz(f, 0, 10, 10000000)"
   ]
  },
  {
   "cell_type": "markdown",
   "id": "dd51e446-a6a2-449c-a880-f292d017a1ad",
   "metadata": {},
   "source": [
    "##### Speed of Numpy > Cython > Python"
   ]
  },
  {
   "cell_type": "markdown",
   "id": "93701032-2807-4df5-99f1-bb96b31dd26e",
   "metadata": {},
   "source": [
    "#### Testing Accuracy of Python, Cython and Numpy"
   ]
  },
  {
   "cell_type": "code",
   "execution_count": 10,
   "id": "a4f351fc-4649-4157-bdec-cac2dfd859bb",
   "metadata": {},
   "outputs": [
    {
     "name": "stdout",
     "output_type": "stream",
     "text": [
      "True value: 333.3333333333333\n",
      "Value using Python: 333.33333333334724\n",
      "Value using Cython: 335.5639953613281\n",
      "Value using Numpy: 333.333300000002\n"
     ]
    }
   ],
   "source": [
    "print(\"True value:\", 1000/3)\n",
    "print(\"Value using Python:\", py_trapz3(f, 0, 10, 10000000))\n",
    "print(\"Value using Cython:\", cy_trapz(f, 0, 10, 10000000))\n",
    "print(\"Value using Numpy:\", np_trapz(f, 0, 10, 10000000))\n"
   ]
  },
  {
   "cell_type": "markdown",
   "id": "9d2080a4-a003-4683-93d0-26176fd5342b",
   "metadata": {},
   "source": [
    "##### Accuracy Python > Numpy > Cython"
   ]
  },
  {
   "cell_type": "markdown",
   "id": "a31e6910-da48-417f-9237-078949369332",
   "metadata": {},
   "source": [
    "### Comparing over different test cases"
   ]
  },
  {
   "cell_type": "code",
   "execution_count": null,
   "id": "1c63645a-2ff7-494e-9cbf-836eb940200e",
   "metadata": {},
   "outputs": [
    {
     "name": "stdout",
     "output_type": "stream",
     "text": [
      "True value: 0.3333333333333333\n",
      "\n",
      "Time using Python:\n",
      "17 ms ± 371 µs per loop (mean ± std. dev. of 7 runs, 100 loops each)\n",
      "Value using Python: 0.3333333333499996\n",
      "\n",
      "Time using Cython:\n",
      "12.8 ms ± 478 µs per loop (mean ± std. dev. of 7 runs, 100 loops each)\n",
      "Value using Python: 0.33333322405815125\n",
      "\n",
      "Time using Numpy:\n"
     ]
    }
   ],
   "source": [
    "f = lambda x: x**2\n",
    "print(\"True value:\", 1/3)\n",
    "print()\n",
    "\n",
    "print(\"Time using Python:\")\n",
    "%timeit py_trapz3(f, 0, 1, 100000)\n",
    "print(\"Value using Python:\", py_trapz3(f, 0, 1, 100000))\n",
    "print()\n",
    "\n",
    "print(\"Time using Cython:\")\n",
    "%timeit cy_trapz(f, 0, 1, 100000)\n",
    "print(\"Value using Python:\", cy_trapz(f, 0, 1, 100000))\n",
    "print()\n",
    "\n",
    "print(\"Time using Numpy:\")\n",
    "%timeit np_trapz(f, 0, 1, 100000)\n",
    "print(\"Value using Python:\", np_trapz(f, 0, 1, 100000))"
   ]
  },
  {
   "cell_type": "code",
   "execution_count": null,
   "id": "c49e8c05-2f02-41d9-9106-7ef9bfc7720e",
   "metadata": {},
   "outputs": [],
   "source": [
    "f = lambda x: np.sin(x)\n",
    "print(\"True value:\", 2)\n",
    "print()\n",
    "\n",
    "print(\"Time using Python:\")\n",
    "%timeit py_trapz3(f, 0, np.pi, 100000)\n",
    "print(\"Value using Python:\", py_trapz3(f, 0, np.pi, 100000))\n",
    "print()\n",
    "\n",
    "print(\"Time using Cython:\")\n",
    "%timeit cy_trapz(f, 0, np.pi, 100000)\n",
    "print(\"Value using Python:\", cy_trapz(f, 0, np.pi, 100000))\n",
    "print()\n",
    "\n",
    "print(\"Time using Numpy:\")\n",
    "%timeit np_trapz(f, 0, np.pi, 100000)\n",
    "print(\"Value using Python:\", np_trapz(f, 0, np.pi, 100000))"
   ]
  },
  {
   "cell_type": "code",
   "execution_count": null,
   "id": "dceba511-a723-4dbf-8193-b38fb3a461dc",
   "metadata": {},
   "outputs": [],
   "source": [
    "f = lambda x: np.exp(x)\n",
    "print(\"True value:\", np.exp(1) - 1)\n",
    "print()\n",
    "\n",
    "print(\"Time using Python:\")\n",
    "%timeit py_trapz3(f, 0, 1, 100000)\n",
    "print(\"Value using Python:\", py_trapz3(f, 0, 1, 100000))\n",
    "print()\n",
    "\n",
    "print(\"Time using Cython:\")\n",
    "%timeit cy_trapz(f, 0, 1, 100000)\n",
    "print(\"Value using Python:\", cy_trapz(f, 0, 1, 100000))\n",
    "print()\n",
    "\n",
    "print(\"Time using Numpy:\")\n",
    "%timeit np_trapz(f, 0, 1, 100000)\n",
    "print(\"Value using Python:\", np_trapz(f, 0, 1, 100000))"
   ]
  },
  {
   "cell_type": "code",
   "execution_count": null,
   "id": "ee43069e-1172-4ce4-92d8-a966261d9c68",
   "metadata": {},
   "outputs": [],
   "source": [
    "f = lambda x: 1/x\n",
    "print(\"True value:\", np.log(2))\n",
    "print()\n",
    "\n",
    "print(\"Time using Python:\")\n",
    "%timeit py_trapz3(f, 1, 2, 100000)\n",
    "print(\"Value using Python:\", py_trapz3(f, 1, 2, 100000))\n",
    "print()\n",
    "\n",
    "print(\"Time using Cython:\")\n",
    "%timeit cy_trapz(f, 1, 2, 100000)\n",
    "print(\"Value using Python:\", cy_trapz(f, 1, 2, 100000))\n",
    "print()\n",
    "\n",
    "print(\"Time using Numpy:\")\n",
    "%timeit np_trapz(f, 1, 2, 100000)\n",
    "print(\"Value using Python:\", np_trapz(f, 1, 2, 100000))"
   ]
  },
  {
   "cell_type": "code",
   "execution_count": null,
   "id": "8712fefa-7e3e-4330-8d35-895cea5c234c",
   "metadata": {},
   "outputs": [],
   "source": []
  }
 ],
 "metadata": {
  "kernelspec": {
   "display_name": "Python 3 (ipykernel)",
   "language": "python",
   "name": "python3"
  },
  "language_info": {
   "codemirror_mode": {
    "name": "ipython",
    "version": 3
   },
   "file_extension": ".py",
   "mimetype": "text/x-python",
   "name": "python",
   "nbconvert_exporter": "python",
   "pygments_lexer": "ipython3",
   "version": "3.9.2"
  }
 },
 "nbformat": 4,
 "nbformat_minor": 5
}
