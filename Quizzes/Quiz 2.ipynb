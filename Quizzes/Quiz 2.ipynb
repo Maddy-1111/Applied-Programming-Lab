{
 "cells": [
  {
   "cell_type": "code",
   "execution_count": 1,
   "metadata": {},
   "outputs": [
    {
     "name": "stdout",
     "output_type": "stream",
     "text": [
      "Quiz 2\n"
     ]
    }
   ],
   "source": [
    "print('Quiz 2')"
   ]
  },
  {
   "cell_type": "code",
   "execution_count": 2,
   "metadata": {},
   "outputs": [],
   "source": [
    "x = 10\n",
    "x += 5 * 2"
   ]
  },
  {
   "cell_type": "code",
   "execution_count": 3,
   "metadata": {},
   "outputs": [
    {
     "data": {
      "text/plain": [
       "20"
      ]
     },
     "execution_count": 3,
     "metadata": {},
     "output_type": "execute_result"
    }
   ],
   "source": [
    "x"
   ]
  },
  {
   "cell_type": "code",
   "execution_count": 8,
   "metadata": {},
   "outputs": [],
   "source": [
    "a = dict({})"
   ]
  },
  {
   "cell_type": "code",
   "execution_count": 9,
   "metadata": {},
   "outputs": [
    {
     "data": {
      "text/plain": [
       "{}"
      ]
     },
     "execution_count": 9,
     "metadata": {},
     "output_type": "execute_result"
    }
   ],
   "source": [
    "a"
   ]
  },
  {
   "cell_type": "code",
   "execution_count": 10,
   "metadata": {},
   "outputs": [
    {
     "name": "stdout",
     "output_type": "stream",
     "text": [
      "30\n"
     ]
    }
   ],
   "source": [
    "def double_output(func):\n",
    "    def wrapper(*args, **kwargs):\n",
    "        result = func(*args, **kwargs)\n",
    "        return result * 2\n",
    "    return wrapper\n",
    "\n",
    "@double_output\n",
    "def add_five(x):\n",
    "    return x + 5\n",
    "\n",
    "print(add_five(10))"
   ]
  },
  {
   "cell_type": "code",
   "execution_count": 14,
   "metadata": {},
   "outputs": [
    {
     "data": {
      "text/plain": [
       "True"
      ]
     },
     "execution_count": 14,
     "metadata": {},
     "output_type": "execute_result"
    }
   ],
   "source": [
    "False ^ True"
   ]
  },
  {
   "cell_type": "code",
   "execution_count": 57,
   "metadata": {},
   "outputs": [],
   "source": [
    "def checkprime(N):\n",
    "    for i in range(2, (N//2)+1):\n",
    "        if N%i == 0:\n",
    "            return False\n",
    "    return True\n",
    "    \n",
    "def primesum(N):\n",
    "    sum = []\n",
    "    for i in range(2, N):\n",
    "        if checkprime(i):\n",
    "            sum.append(i)\n",
    "    return sum"
   ]
  },
  {
   "cell_type": "code",
   "execution_count": 58,
   "metadata": {},
   "outputs": [
    {
     "data": {
      "text/plain": [
       "False"
      ]
     },
     "execution_count": 58,
     "metadata": {},
     "output_type": "execute_result"
    }
   ],
   "source": [
    "checkprime(6)"
   ]
  },
  {
   "cell_type": "code",
   "execution_count": 60,
   "metadata": {},
   "outputs": [
    {
     "data": {
      "text/plain": [
       "[2, 3, 5, 7]"
      ]
     },
     "execution_count": 60,
     "metadata": {},
     "output_type": "execute_result"
    }
   ],
   "source": [
    "primesum(11)"
   ]
  },
  {
   "cell_type": "code",
   "execution_count": 61,
   "metadata": {},
   "outputs": [],
   "source": [
    "import math\n",
    "\n",
    "def checkprime(N):\n",
    "    if N <= 1:\n",
    "        return False\n",
    "    if N == 2 or N == 3:\n",
    "        return True\n",
    "    if N % 2 == 0 or N % 3 == 0:\n",
    "        return False\n",
    "    for i in range(5, int(math.sqrt(N)) + 1, 6):\n",
    "        if N % i == 0 or N % (i + 2) == 0:\n",
    "            return False\n",
    "    return True"
   ]
  },
  {
   "cell_type": "code",
   "execution_count": 64,
   "metadata": {},
   "outputs": [],
   "source": [
    "def ohms_law(voltage, current, resistance):\n",
    "    if voltage is None:\n",
    "        if (current is None) or (resistance is None):\n",
    "            return \"Error: Two parameters cannot be None\"\n",
    "        ##\n",
    "        return f\"Voltage = {(current * resistance):.1f}\"\n",
    "            \n",
    "    elif current is None:\n",
    "        if (voltage is None) or (resistance is None):\n",
    "            return \"Error: Two parameters cannot be None\"\n",
    "        ##\n",
    "        if resistance == 0:\n",
    "            return \"Error: Resistance cannot be zero\"\n",
    "        return f\"Current = {(voltage / resistance):.1f}\"\n",
    "            \n",
    "    elif resistance is None:\n",
    "        if (current is None) or (voltage is None):\n",
    "            return \"Error: Two parameters cannot be None\"\n",
    "        ##\n",
    "        if current == 0:\n",
    "            return \"Error: Current cannot be zero\"\n",
    "        return f\"Current = {(voltage / current):.1f}\"\n",
    "            \n",
    "    else:\n",
    "        return \"Error: All parameters are provided\""
   ]
  },
  {
   "cell_type": "code",
   "execution_count": 65,
   "metadata": {},
   "outputs": [
    {
     "data": {
      "text/plain": [
       "'Current = 6.0'"
      ]
     },
     "execution_count": 65,
     "metadata": {},
     "output_type": "execute_result"
    }
   ],
   "source": [
    "ohms_law(12, 2, None)"
   ]
  },
  {
   "cell_type": "code",
   "execution_count": null,
   "metadata": {},
   "outputs": [],
   "source": []
  }
 ],
 "metadata": {
  "kernelspec": {
   "display_name": "base",
   "language": "python",
   "name": "python3"
  },
  "language_info": {
   "codemirror_mode": {
    "name": "ipython",
    "version": 3
   },
   "file_extension": ".py",
   "mimetype": "text/x-python",
   "name": "python",
   "nbconvert_exporter": "python",
   "pygments_lexer": "ipython3",
   "version": "3.11.7"
  }
 },
 "nbformat": 4,
 "nbformat_minor": 2
}
