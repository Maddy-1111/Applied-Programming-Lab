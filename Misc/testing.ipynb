{
 "cells": [
  {
   "cell_type": "code",
   "execution_count": 19,
   "metadata": {},
   "outputs": [],
   "source": [
    "grid = [\n",
    " [3, 3, 3, 8, 2, 1, 4, 1, 5],\n",
    " [5, 1, 2, 8, 2, 9, 2, 6, 1],\n",
    " [1, 5, 6, 8, 3, 1, 1, 2, 8],\n",
    " [1, 5, 6, 3, 5, 4, 3, 1, 5],\n",
    " [9, 7, 9, 1, 5, 8, 6, 5, 2],\n",
    " [1, 1, 7, 3, 1, 5, 1, 8, 1],\n",
    " [5, 1, 8, 1, 3, 4, 3, 8, 6],\n",
    " [4, 8, 7, 6, 7, 3, 3, 6, 2],\n",
    " [3, 7, 8, 4, 9, 1, 9, 3, 9]\n",
    "]"
   ]
  },
  {
   "cell_type": "code",
   "execution_count": 24,
   "metadata": {},
   "outputs": [],
   "source": [
    "from collections import defaultdict\n",
    "\n",
    "rows, columns, boxes = defaultdict(list), defaultdict(list), defaultdict(list)\n",
    "flag_rows = [0 for i in range(9)]\n",
    "flag_columns = [0 for i in range(9)]\n",
    "flag_boxes = [[0 for i in range(3)] for j in range(3)]\n",
    "\n",
    "for i in range(len(grid)):\n",
    "    for j in range(len(grid[0])):\n",
    "        if grid[i][j] in rows[i]:\n",
    "            flag_rows[i] = 1\n",
    "            \n",
    "        if grid[i][j] in columns[j]:\n",
    "            flag_columns[j] = 1\n",
    "            \n",
    "        if grid[i][j] in boxes[f'{i//3}{j//3}']:\n",
    "            flag_boxes[i//3][j//3] = 1\n",
    "            \n",
    "        rows[i].append(grid[i][j])\n",
    "        columns[j].append(grid[i][j])\n",
    "        boxes[f'{i//3}{j//3}'].append(grid[i][j])\n",
    "            \n"
   ]
  },
  {
   "cell_type": "code",
   "execution_count": 25,
   "metadata": {},
   "outputs": [
    {
     "data": {
      "text/plain": [
       "defaultdict(list,\n",
       "            {'00': [3, 3, 3, 5, 1, 2, 1, 5, 6],\n",
       "             '01': [8, 2, 1, 8, 2, 9, 8, 3, 1],\n",
       "             '02': [4, 1, 5, 2, 6, 1, 1, 2, 8],\n",
       "             '10': [1, 5, 6, 9, 7, 9, 1, 1, 7],\n",
       "             '11': [3, 5, 4, 1, 5, 8, 3, 1, 5],\n",
       "             '12': [3, 1, 5, 6, 5, 2, 1, 8, 1],\n",
       "             '20': [5, 1, 8, 4, 8, 7, 3, 7, 8],\n",
       "             '21': [1, 3, 4, 6, 7, 3, 4, 9, 1],\n",
       "             '22': [3, 8, 6, 3, 6, 2, 9, 3, 9]})"
      ]
     },
     "execution_count": 25,
     "metadata": {},
     "output_type": "execute_result"
    }
   ],
   "source": [
    "boxes"
   ]
  },
  {
   "cell_type": "code",
   "execution_count": 26,
   "metadata": {},
   "outputs": [
    {
     "data": {
      "text/plain": [
       "(9, 9, 9)"
      ]
     },
     "execution_count": 26,
     "metadata": {},
     "output_type": "execute_result"
    }
   ],
   "source": [
    "sum(flag_rows), sum(flag_columns), sum(sum(i) for i in flag_boxes)"
   ]
  },
  {
   "cell_type": "code",
   "execution_count": 52,
   "metadata": {},
   "outputs": [],
   "source": [
    "# 12345 - lmid = 1 and mid = 2\n",
    "# 123456 - lmid = 2 and mid = 2\n",
    "def palin(n):\n",
    "    \n",
    "    s = [x for x in str(n+1)]\n",
    "\n",
    "    print(s)\n",
    "\n",
    "    lmid = len(s) // 2 - 1\n",
    "    mid  = (len(s) + 1) // 2 - 1\n",
    "    print(s[:lmid+1][::-1])\n",
    "    upper = int(''.join(s[:lmid+1][::-1]))\n",
    "    lower = int(''.join(s[-(lmid+1):]))\n",
    "    s = [int(x) for x in s]\n",
    "    if upper < lower:\n",
    "        s[mid] += 1\n",
    "    # if s[lmid] < s[-(lmid+1)]:\n",
    "    #     s[mid] += 1\n",
    "\n",
    "    print(s)\n",
    "\n",
    "    for i in range(lmid+1):\n",
    "        s[-i-1] = s[i]\n",
    "    \n",
    "    return int(''.join([str(x) for x in s]))"
   ]
  },
  {
   "cell_type": "code",
   "execution_count": 57,
   "metadata": {},
   "outputs": [
    {
     "name": "stdout",
     "output_type": "stream",
     "text": [
      "['1', '1']\n",
      "['1']\n",
      "[1, 1]\n"
     ]
    },
    {
     "data": {
      "text/plain": [
       "11"
      ]
     },
     "execution_count": 57,
     "metadata": {},
     "output_type": "execute_result"
    }
   ],
   "source": [
    "palin(10)"
   ]
  },
  {
   "cell_type": "code",
   "execution_count": 51,
   "metadata": {},
   "outputs": [
    {
     "data": {
      "text/plain": [
       "1"
      ]
     },
     "execution_count": 51,
     "metadata": {},
     "output_type": "execute_result"
    }
   ],
   "source": [
    "a = ['1']\n",
    "int(''.join(a))"
   ]
  },
  {
   "cell_type": "code",
   "execution_count": 26,
   "metadata": {},
   "outputs": [
    {
     "name": "stdout",
     "output_type": "stream",
     "text": [
      "11.3 s ± 2.83 s per loop (mean ± std. dev. of 7 runs, 1 loop each)\n"
     ]
    },
    {
     "data": {
      "text/plain": [
       "31626"
      ]
     },
     "execution_count": 26,
     "metadata": {},
     "output_type": "execute_result"
    }
   ],
   "source": [
    "def amicable(n1, n2):\n",
    "\n",
    "    if n1 == n2:\n",
    "        return False\n",
    "\n",
    "    d1, d2 = 0, 0\n",
    "    for i in range(1, n1):\n",
    "        if n1 % i == 0:\n",
    "            d1 += i\n",
    "    for j in range(1, n2):\n",
    "        if n2 % j == 0:\n",
    "            d2 += j\n",
    "    \n",
    "    if n1 == d2 and n2 == d1:\n",
    "        return True\n",
    "    else:\n",
    "        return False\n",
    "\n",
    "\n",
    "def amsum(N):\n",
    "    out = 0\n",
    "    for i in range(1, N+1):\n",
    "        d = 0\n",
    "        for j in range(1, i):\n",
    "            if i % j == 0:\n",
    "                d += j\n",
    "        if amicable(d, i):\n",
    "            out += i\n",
    "    return out\n",
    "\n",
    "%timeit amsum(10000)\n",
    "amsum(10000)"
   ]
  },
  {
   "cell_type": "code",
   "execution_count": 61,
   "metadata": {},
   "outputs": [
    {
     "name": "stdout",
     "output_type": "stream",
     "text": [
      "77.4 ms ± 1.18 ms per loop (mean ± std. dev. of 7 runs, 10 loops each)\n"
     ]
    },
    {
     "data": {
      "text/plain": [
       "31626"
      ]
     },
     "execution_count": 61,
     "metadata": {},
     "output_type": "execute_result"
    }
   ],
   "source": [
    "import math\n",
    "def amicable(n1, n2):\n",
    "\n",
    "    if n1 == n2:\n",
    "        return False\n",
    "\n",
    "    d1, d2 = 0, 0\n",
    "    for i in range(1, math.ceil(n1**0.5)):\n",
    "        if n1 % i == 0:\n",
    "            d1 += i + n1/i\n",
    "    for i in range(1, math.ceil(n2**0.5)):\n",
    "        if n2 % i == 0:\n",
    "            d2 += i + n2/i\n",
    "    d1 -= n1\n",
    "    d2 -= n2\n",
    "    \n",
    "    if n1 == d2 and n2 == d1:\n",
    "        return True\n",
    "    else:\n",
    "        return False\n",
    "\n",
    "\n",
    "def amsum(N):\n",
    "    out = 0\n",
    "    unamicable = {1}\n",
    "    for i in range(1, N+1):\n",
    "        if i in unamicable:\n",
    "            continue\n",
    "        d = 0\n",
    "        for j in range(1, math.ceil(i**0.5)):\n",
    "            if i % j == 0:\n",
    "                d += j + i/j\n",
    "        d -= i\n",
    "        if amicable(d, i):\n",
    "            out += i\n",
    "        else:\n",
    "            unamicable.add(d)\n",
    "    return out\n",
    "\n",
    "\n",
    "%timeit amsum(10000)\n",
    "amsum(10000)"
   ]
  },
  {
   "cell_type": "code",
   "execution_count": 57,
   "metadata": {},
   "outputs": [
    {
     "data": {
      "text/plain": [
       "284.0"
      ]
     },
     "execution_count": 57,
     "metadata": {},
     "output_type": "execute_result"
    }
   ],
   "source": [
    "n1 = 220\n",
    "d1 = 0\n",
    "for i in range(1, math.floor(n1**0.5)+1):\n",
    "        if n1 % i == 0:\n",
    "            d1 += i + n1/i\n",
    "d1 - n1"
   ]
  },
  {
   "cell_type": "code",
   "execution_count": 46,
   "metadata": {},
   "outputs": [
    {
     "name": "stdout",
     "output_type": "stream",
     "text": [
      "1.75 s ± 131 ms per loop (mean ± std. dev. of 7 runs, 1 loop each)\n"
     ]
    },
    {
     "data": {
      "text/plain": [
       "31626"
      ]
     },
     "execution_count": 46,
     "metadata": {},
     "output_type": "execute_result"
    }
   ],
   "source": [
    "def amicable(n1, n2):\n",
    "\n",
    "    if n1 == n2:\n",
    "        return False\n",
    "\n",
    "    d1, d2 = 0, 0\n",
    "\n",
    "    if n1 % 2 != 0 and n1 % 3 != 0:\n",
    "        for i in range(1, n1//2 + 1, 6):\n",
    "            if n1 % i == 0:\n",
    "                d1 += i\n",
    "            if n1 % (i+4) == 0:\n",
    "                d1 += (i+4)\n",
    "    elif n1 % 3 != 0:\n",
    "        for i in range(1, n1//2 + 1, 3):\n",
    "            if n1 % i == 0:\n",
    "                d1 += i\n",
    "            if n1 % (i+1) == 0:\n",
    "                d1 += (i+1)\n",
    "    elif n1 % 2 != 0:\n",
    "        for i in range(1, n1//2 + 1, 2):\n",
    "            if n1 % i == 0:\n",
    "                d1 += i\n",
    "    else:\n",
    "        for i in range(1, n1//2 + 1):\n",
    "            if n1 % i == 0:\n",
    "                d1 += i\n",
    "    \n",
    "    if n2 % 2 != 0 and n2 % 3 != 0:\n",
    "        for i in range(1, n2//2 + 1, 6):\n",
    "            if n2 % i == 0:\n",
    "                d2 += i\n",
    "            if n2 % (i+4) == 0:\n",
    "                d2 += (i+4)\n",
    "    elif n2 % 3 != 0:\n",
    "        for i in range(1, n2//2 + 1, 3):\n",
    "            if n2 % i == 0:\n",
    "                d2 += i\n",
    "            if n2 % (i+1) == 0:\n",
    "                d2 += (i+1)\n",
    "    elif n2 % 2 != 0:\n",
    "        for i in range(1, n2//2 + 1, 2):\n",
    "            if n2 % i == 0:\n",
    "                d2 += i\n",
    "    else:\n",
    "        for i in range(1, n2//2 + 1):\n",
    "            if n2 % i == 0:\n",
    "                d2 += i\n",
    "    \n",
    "    if n1 == d2 and n2 == d1:\n",
    "        return True\n",
    "    else:\n",
    "        return False\n",
    "\n",
    "\n",
    "def amsum(N):\n",
    "    out = 0\n",
    "    unamicable = {1}\n",
    "    for i in range(1, N+1):\n",
    "        if i in unamicable:\n",
    "            continue\n",
    "        d = 0\n",
    "\n",
    "        if i % 2 != 0 and i % 3 != 0:\n",
    "            for j in range(1, i//2 + 1, 6):\n",
    "                if i % j == 0:\n",
    "                    d += j\n",
    "                if i % (j+4) == 0:\n",
    "                    d += (j+4)\n",
    "        elif i % 3 != 0:\n",
    "            for j in range(1, i//2 + 1, 3):\n",
    "                if i % j == 0:\n",
    "                    d += j\n",
    "                if i % (j+1) == 0:\n",
    "                    d += (j+1)\n",
    "        elif i % 2 != 0:\n",
    "            for j in range(1, i//2 + 1, 2):\n",
    "                if i % j == 0:\n",
    "                    d += j\n",
    "        else:\n",
    "            for j in range(1, i//2 + 1):\n",
    "                if i % j == 0:\n",
    "                    d += j\n",
    "        \n",
    "        if amicable(d, i):\n",
    "            out += i\n",
    "        else:\n",
    "            unamicable.add(d)\n",
    "    return out\n",
    "\n",
    "\n",
    "%timeit amsum(10000)\n",
    "amsum(10000)"
   ]
  },
  {
   "cell_type": "code",
   "execution_count": 39,
   "metadata": {},
   "outputs": [
    {
     "data": {
      "text/plain": [
       "(0, 2)"
      ]
     },
     "execution_count": 39,
     "metadata": {},
     "output_type": "execute_result"
    }
   ],
   "source": [
    "def subsetsum(L, S):\n",
    "    for i in range(len(L)):\n",
    "        for j in range(i, len(L)):\n",
    "            if sum(L[i:j+1]) == S:\n",
    "                return (i, j)\n",
    "            \n",
    "    return (-1, -1)\n",
    "\n",
    "subsetsum([1, 2, 3], 6)"
   ]
  },
  {
   "cell_type": "code",
   "execution_count": 36,
   "metadata": {},
   "outputs": [
    {
     "name": "stdout",
     "output_type": "stream",
     "text": [
      "(0, 0)\n",
      "(0, 1)\n",
      "(0, 2)\n",
      "(1, 1)\n",
      "(1, 2)\n",
      "(2, 2)\n"
     ]
    }
   ],
   "source": [
    "L = [1, 2, 3]\n",
    "for i in range(len(L)):\n",
    "        for j in range(i, len(L)):\n",
    "                print((i, j))"
   ]
  },
  {
   "cell_type": "code",
   "execution_count": 38,
   "metadata": {},
   "outputs": [
    {
     "data": {
      "text/plain": [
       "[1, 2, 3]"
      ]
     },
     "execution_count": 38,
     "metadata": {},
     "output_type": "execute_result"
    }
   ],
   "source": [
    "L[0:3]"
   ]
  },
  {
   "cell_type": "code",
   "execution_count": null,
   "metadata": {},
   "outputs": [],
   "source": []
  }
 ],
 "metadata": {
  "kernelspec": {
   "display_name": "base",
   "language": "python",
   "name": "python3"
  },
  "language_info": {
   "codemirror_mode": {
    "name": "ipython",
    "version": 3
   },
   "file_extension": ".py",
   "mimetype": "text/x-python",
   "name": "python",
   "nbconvert_exporter": "python",
   "pygments_lexer": "ipython3",
   "version": "3.11.7"
  }
 },
 "nbformat": 4,
 "nbformat_minor": 2
}
